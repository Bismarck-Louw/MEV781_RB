{
 "cells": [
  {
   "cell_type": "markdown",
   "id": "17ba44c4",
   "metadata": {},
   "source": [
    "## Wavelet transforms\n",
    "\n",
    "The purpose of this notebook is to provide a supplementary write-up of the wavelet transform, with some executable (spelt wrong?) code that the students can play around with. \n",
    "\n",
    "Steps: \n",
    "- explain how wavelet transform works\n",
    "- Demonstrate on some real signals\n",
    "- Explain connection to time and STFT\n"
   ]
  }
 ],
 "metadata": {
  "kernelspec": {
   "display_name": "Python 3",
   "language": "python",
   "name": "python3"
  },
  "language_info": {
   "codemirror_mode": {
    "name": "ipython",
    "version": 3
   },
   "file_extension": ".py",
   "mimetype": "text/x-python",
   "name": "python",
   "nbconvert_exporter": "python",
   "pygments_lexer": "ipython3",
   "version": "3.7.10"
  }
 },
 "nbformat": 4,
 "nbformat_minor": 5
}
