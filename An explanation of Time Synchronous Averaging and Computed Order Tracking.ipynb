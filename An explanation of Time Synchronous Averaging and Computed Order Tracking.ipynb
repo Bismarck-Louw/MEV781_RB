{
 "cells": [
  {
   "cell_type": "markdown",
   "id": "777c9b07",
   "metadata": {},
   "source": [
    "# Explanation notes\n",
    "\n",
    "The purpose of this notebook is to detail some notes on the TSA and COT. I will not provide code to implement the methods but rather walk the student through the process with figures.\n",
    "\n",
    "Steps: \n",
    "- Detail how the tachometer and signal are related (visually)\n",
    "- Detail how we use the tachometer to extract rotations synchronous with the shaft\n",
    "- Discuss how we account for shaft speed changes and how we correlate the rotation indices in practice (different sampling rates)\n",
    "- Discuss relationship to COT and how COT provides us information with respect to shaft rotations\n",
    "\n",
    "This one should be fun."
   ]
  }
 ],
 "metadata": {
  "kernelspec": {
   "display_name": "Python 3",
   "language": "python",
   "name": "python3"
  },
  "language_info": {
   "codemirror_mode": {
    "name": "ipython",
    "version": 3
   },
   "file_extension": ".py",
   "mimetype": "text/x-python",
   "name": "python",
   "nbconvert_exporter": "python",
   "pygments_lexer": "ipython3",
   "version": "3.7.10"
  }
 },
 "nbformat": 4,
 "nbformat_minor": 5
}
