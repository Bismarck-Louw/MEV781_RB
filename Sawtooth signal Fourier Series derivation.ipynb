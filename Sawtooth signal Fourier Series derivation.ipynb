{
 "cells": [
  {
   "cell_type": "markdown",
   "id": "992882fe",
   "metadata": {},
   "source": [
    "What we know:\n",
    "- $g(x) = x$ in $\\left[0, 1\\right]$ (the true form is $g(x) = x - \\lfloor x \\rfloor$, where $\\lfloor \\cdot \\rfloor$ is the floor operator)\n",
    "- $P = \\left[0, 1\\right]$\n",
    "- $n$ are integers\n",
    "\n",
    "\n",
    "Solving for $a_0$:\n",
    "\\begin{equation}\n",
    "\\begin{aligned}\n",
    "a_0 &= \\frac{2}{P}\\int_P x dx \\\\\n",
    "&= 2\\left(\\int_0^1x dx\\right) \\\\\n",
    "&= \\frac{2}{2} \\left[x^2\\right]_0^1 \\\\\n",
    "&= 1\n",
    "\\end{aligned}\n",
    "\\end{equation}\n",
    "\n",
    "Solving for $a_n$:\n",
    "\\begin{equation}\n",
    "\\begin{aligned}\n",
    "a_n &= \\frac{2}{P} \\int_P g(x) \\cdot \\cos(\\frac{2\\pi}{P} n x) dx \\\\\n",
    "&= 2\\left(\\int_0^1 x \\cdot \\cos(2\\pi n x) dx\\right) \\\\\n",
    "& \\text{Using integration by parts, where } u = x \\text{ and } v^{'} = \\cos(2\\pi n x) \\text{ thus, } v = \\frac{1}{2\\pi n}sin(2\\pi n x)  \\\\\n",
    "&= 2\\left(\\left[uv\\right]_0^1 - \\int_0^1 u^{'}v dx \\right) \\\\\n",
    "&= 2\\left(\\left[\\frac{x}{2\\pi n}sin(2\\pi n x) \\right]_0^1 - \\frac{1}{2 \\pi n}\\int_0^1 sin(2\\pi n x)dx\\right) \\\\\n",
    "&= 2\\left(\\left[ \\frac{1}{2\\pi n}sin(2\\pi n)  - \\frac{0}{2\\pi n}sin(0) \\right] - \\frac{1}{2 \\pi n}\\int_0^1 sin(2\\pi n x)dx\\right) \\\\\n",
    "&= 2\\left(0 + \\frac{1}{(2 \\pi n)^2}\\left[ cos(2\\pi n x) \\right]_0^1\\right) \\\\\n",
    "&= 2\\left(\\frac{1}{(2 \\pi n)^2}\\left[ cos(2\\pi n) - cos(0) \\right]\\right) \\\\\n",
    "&= 0\n",
    "\\end{aligned}\n",
    "\\end{equation}\n",
    "\n",
    "Solving for $b_n$:\n",
    "\\begin{equation}\n",
    "\\begin{aligned}\n",
    "b_n &= \\frac{2}{P} \\int_P g(x) \\cdot \\sin(\\frac{2\\pi}{P} n x) dx \\\\\n",
    "&= 2\\left(\\int_0^1 x \\cdot \\sin(2\\pi n x) dx\\right) \\\\\n",
    "& \\text{Using integration by parts, where } u = x \\text{ and } v^{'} = \\sin(2\\pi n x) \\text{ thus, } v = -\\frac{1}{2\\pi n}cos(2\\pi n x)  \\\\\n",
    "&= 2\\left(\\left[uv\\right]_0^1 - \\int_0^1 u^{'}v dx \\right) \\\\\n",
    "&= 2\\left(\\left[-\\frac{x}{2\\pi n}cos(2\\pi n x) \\right]_0^1 + \\frac{1}{2 \\pi n}\\int_0^1 cos(2\\pi n x)dx\\right) \\\\\n",
    "&= 2\\left(\\left[ -\\frac{1}{2\\pi n}cos(2\\pi n)  + \\frac{0}{2\\pi n}cos(0) \\right] + \\frac{1}{2 \\pi n}\\int_0^1 cos(2\\pi n x)dx\\right) \\\\\n",
    "&= 2\\left(-\\frac{1}{2\\pi n} + \\frac{1}{(2 \\pi n)^2}\\left[ sin(2\\pi n x) \\right]_0^1\\right) \\\\\n",
    "&= 2\\left(-\\frac{1}{2\\pi n} + \\frac{1}{(2 \\pi n)^2}\\left[ sin(2\\pi n) - sin(0) \\right] \\right)\\\\\n",
    "&= -\\frac{1}{\\pi n}\n",
    "\\end{aligned}\n",
    "\\end{equation}\n",
    "\n",
    "Putting it all together:\n",
    "\n",
    "\\begin{equation}\n",
    "g_N(x) = \\frac{1}{2} - \\sum_{n=1}^N \\frac{1}{\\pi n} \\sin(2 \\pi n x),\n",
    "\\end{equation}\n",
    "\n",
    "where it clear to see that we can now draw some conclusions for what we might see in the Fourier Transform. Firstly, we expect a DC offset of 0.5 as this is the coefficient of the signal at $n=0$. Secondly, we expect some visual decay in the magnitude as the frequency increases, as we are summing $n$ sinusoids at integer frequencies, where the amplitude of these sinusoids is given by $\\frac{1}{\\pi n}$. (If we look at the single-sided spectrum, we expect these terms to double). It is interesting to note that the FFT for $t_{end} = 1s$ is not the same as the analytical calculation, but this is fixed by setting $t_{end} = n, n = 2, 3, 4...$. It may have to do with the periodicity of the signals, as under 1 second we never show the signal the discontinuity."
   ]
  }
 ],
 "metadata": {
  "kernelspec": {
   "display_name": "Python 3",
   "language": "python",
   "name": "python3"
  },
  "language_info": {
   "codemirror_mode": {
    "name": "ipython",
    "version": 3
   },
   "file_extension": ".py",
   "mimetype": "text/x-python",
   "name": "python",
   "nbconvert_exporter": "python",
   "pygments_lexer": "ipython3",
   "version": "3.7.10"
  }
 },
 "nbformat": 4,
 "nbformat_minor": 5
}
