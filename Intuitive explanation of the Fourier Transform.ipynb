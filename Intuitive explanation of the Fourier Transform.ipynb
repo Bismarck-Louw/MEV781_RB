{
 "cells": [
  {
   "cell_type": "markdown",
   "id": "broke-oxford",
   "metadata": {},
   "source": [
    "# The Fourier Transform, an intuitive explanation"
   ]
  },
  {
   "cell_type": "markdown",
   "id": "electric-google",
   "metadata": {},
   "source": [
    "## Explanation purpose\n",
    "Good day MEV student, \n",
    "\n",
    "So if you are opening this document, you hopefully have some questions about the Fourier Transform (FT), the Discrete Fourier Transform (DFT) or perhaps you are just curious to see what this document entails. Regardless of your reason for opening, I hope that this document makes the FT and DFT more accessible and intuitive. I have attempted to write this from a basic Mechanical Engineering context, so I hope you enjoy this document! \n",
    "\n",
    "Kind regards, \n",
    "\n",
    "Ryan Balshaw\n",
    "\n",
    "P.S. The initial part of this document is largely based off a video from [3blue1brown](https://www.youtube.com/watch?v=spUNpyF58BY), but with more details and the ability to play around with the examples from the video. Feel free to watch this video first and then decide if this document is worth it."
   ]
  },
  {
   "cell_type": "markdown",
   "id": "sitting-minority",
   "metadata": {},
   "source": [
    "# Introduction basics\n",
    "\n",
    "This tutorial will be begin with framing the ideas behind the FT and then go into the more complex for the DFT, as the Fast Fourier Transform (FFT) is its algorithmic implementation. The first question I would like to pose is: \"what is your interpretation of a frequency $f$ or $\\omega$?\". Hopefully the following may come to mind: \n",
    "- It describes some rate, such as the rate of ossilation in sinusoids.\n",
    "\n",
    "- It is a term used in MEV that has units of $Hz$ or $\\frac{rad}{s}$.\n",
    "\n",
    "- It is the angular velocity around the centre of mass in bodies that undergo some rotation.\n",
    "\n",
    "All three of these are technically correct and depend on application context, but what is important is that all three of these ideas are key to interpreting the FT. So, without further ado, let us jump right into understanding the FT and the FFT. So the basic idea of the FT is to determine the important frequency components $f$ in a signal by understanding the idea of a Fourier series, which states that a real valued function $g(x)$ can be decomposed into a series of sinusoidal components. This is formally written as \n",
    "\\begin{equation}\n",
    "g_N(x) = \\frac{a_0}{2} + \\sum_{n=1}^N \\left[ a_n \\cos(\\frac{2\\pi}{P} n x) + b_n \\sin(\\frac{2\\pi}{P} n x) \\right],\n",
    "\\end{equation}\n",
    "where $N$ is the number of components used to decompose $g(x)$, $P$ is the interval length of $g(x)$ and $a_n$ and $b_n$ are the amplitude weighting components applied to the cosine and sine functions. For those interested, $a_0$, $a_n$ and $b_n$ are found through\n",
    "\\begin{equation}\n",
    "a_n = \\frac{2}{P} \\int_P g(x) \\cdot \\cos(\\frac{2\\pi}{P} n x) dx,\n",
    "\\end{equation}\n",
    "\\begin{equation}\n",
    "b_n = \\frac{2}{P} \\int_P g(x) \\cdot \\sin(\\frac{2\\pi}{P} n x) dx,\n",
    "\\end{equation}\n",
    "\\begin{equation}\n",
    "a_0 = \\frac{2}{P} \\int_P g(x) dx,\n",
    "\\end{equation}\n",
    "However, what if we wish to determine which sinusoidal components are dominant in the signal without knowing its analytical function? To do this, we move away from the Fourier series and introduce the idea behind the Fourier Transform. It is of crucial importance to note that these two methods are *not the same*, but they have strong connections to one another.\n",
    "\n",
    "To describe the Fourier Transform, I will quote Wikipedia: \"In mathematics, a Fourier transform (FT) is a mathematical transform that decomposes functions depending on space or time into functions depending on spatial or temporal frequency, such as the expression of a musical chord in terms of the volumes and frequencies of its constituent notes. The term Fourier transform refers to both the frequency domain representation and the mathematical operation that associates the frequency domain representation to a function of space or time.\"\n",
    "\n",
    "This may seem intimidating for those less well versed with the Fourier Transform, so lets decompose this into sub-ideas: \n",
    "1. The Fourier Transform shifts/transforms functions in the time domain to the frequency domain.\n",
    "\n",
    "2. A mathematical operation is required to facilitate this transformation.\n",
    "\n",
    "Great, but how does this help us? I will try to explain the intuition behind the mathematical operations in a simple way, with the help of some useful visual plots that one can interact with. This may seem somewhat abstract, but if you bear with me, it will hopefully all make sense at the end.\n",
    "\n",
    "**Idea 1**\n",
    "\n",
    "Before I detail the Fourier Transform, lets try the following: lets take a signal $g(t)$ (where the change of dependent variable is necessary for time-series data) and wrap it around a 2D axis. To enable this process, let us first consider the meaning of frequency components $f$ and $\\omega$. The units for $f$ is typically $Hz$ or $cycles/s$ and the variable $\\omega$ has units of $rad/s$. One can obtain $\\omega$ from $f$ through $\\omega = 2 \\pi f$. \n",
    "\n",
    "Why is this useful? Well in a physics context, $\\omega$ describes the rate at which something rotates around an axis. So, to wrap a signal around a 2D axis, we take the signal $g(t)$, its time $t$, a pre-selected $f$ value and now exploit some simple physics relationships, namely:\n",
    "\\begin{equation}\n",
    "\\theta(t) = \\int_{0}^{t}\\omega(\\tau)d\\tau,\n",
    "\\end{equation}\n",
    "where the indefinite integral $\\int\\omega(t)dt$ can be written in this form if $\\theta(t = 0) = 0$ and we are only concerned with $t \\geq 0$, which is a reasonable assumption to make in this case. If we assume that $\\omega(t)$ is a constant ($\\omega(t) = C$) then the angular displacement becomes\n",
    "\\begin{equation}\n",
    "\\theta(t) = \\omega t.\n",
    "\\end{equation}\n",
    "This expression allows us to work out where $g(t = t_i)$ will lie in a 2D plane by working out the rotation increment from in the 2D plane and by letting $g(t = t_i)$ be the distance from the origin at some angular position $\\theta(t=t_i)$. More realistically, we can just work out the rotation  $\\theta_i$ for all time indices $t_i$ and then plot the data using $x(t_i) = g(t_i) \\cos(\\theta_i)$ and $y(t_i) = g(t_i) \\sin(\\theta_i)$, where we obtain the rotation $\\theta$ through $\\theta_i = 2 \\pi f t_i$ (note here that I dropped the time index notation $\\cdot(t)$ and replaced it with an index notation $\\cdot_i$ as I need to discretise the system to plot it). This effectively shifts the signal from a 2-dimensional Euclidean coordinate system into the polar coordinate system. Let us now go through this process cell by cell."
   ]
  },
  {
   "cell_type": "markdown",
   "id": "afraid-namibia",
   "metadata": {},
   "source": [
    "### Step 1: define a function g(t)\n",
    "\n",
    "\\begin{equation}\n",
    "g(t) = \\frac{1}{4}cos(2 \\pi f_1 t) + \\frac{1}{4}cos(2 \\pi f_2 t) + 1,\n",
    "\\end{equation}\n",
    "where $f_1 = 2$ and $f_2 = 3$."
   ]
  },
  {
   "cell_type": "code",
   "execution_count": 51,
   "id": "respected-syndrome",
   "metadata": {},
   "outputs": [
    {
     "data": {
      "application/vnd.jupyter.widget-view+json": {
       "model_id": "788398791314464599badc2c508d65f4",
       "version_major": 2,
       "version_minor": 0
      },
      "text/plain": [
       "Canvas(toolbar=Toolbar(toolitems=[('Home', 'Reset original view', 'home', 'home'), ('Back', 'Back to previous …"
      ]
     },
     "metadata": {},
     "output_type": "display_data"
    }
   ],
   "source": [
    "import numpy as np\n",
    "from matplotlib import pyplot as plt\n",
    "from mpl_toolkits.mplot3d import Axes3D\n",
    "import matplotlib.animation as animation\n",
    "import ipywidgets\n",
    "from IPython.display import Image\n",
    "\n",
    "%matplotlib widget\n",
    "\n",
    "############\n",
    "#ASSUMPTIONS\n",
    "############\n",
    "\n",
    "t1 = 0 #start time\n",
    "t2 = 4 #end time\n",
    "Fs = 1000 #Sampling frequency\n",
    "offset = 1 #DC offset\n",
    "\n",
    "freq1 = 2\n",
    "freq2 = 3\n",
    "\n",
    "t = np.linspace(t1, t2, int(t2 * Fs))\n",
    "g_function = np.cos(2 * np.pi * freq1 * t)/4 + np.cos(freq2 * 2 * np.pi * t) + offset\n",
    "\n",
    "plt.figure()\n",
    "plt.title(\"The function g(t)\")\n",
    "plt.plot(t, g_function)\n",
    "plt.xlabel(\"Time (s)\")\n",
    "plt.grid()\n",
    "plt.show()"
   ]
  },
  {
   "cell_type": "markdown",
   "id": "owned-membership",
   "metadata": {},
   "source": [
    "Comment: This function consists of two cosines addes together with some pre-defined offset. Now, lets try this wrapping idea! First lets define $f$ and calculate $\\theta$."
   ]
  },
  {
   "cell_type": "markdown",
   "id": "e3bbd1f4",
   "metadata": {},
   "source": [
    "### Step 2: define $f$ and calculate the angular displacement $\\theta$."
   ]
  },
  {
   "cell_type": "code",
   "execution_count": 52,
   "id": "generous-compression",
   "metadata": {},
   "outputs": [],
   "source": [
    "#create your own definition of 1 revolution\n",
    "f = 0.1 #cycles per second (Hz)\n",
    "theta_range = 2 * np.pi * f * t"
   ]
  },
  {
   "cell_type": "markdown",
   "id": "behind-specific",
   "metadata": {},
   "source": [
    "Comment: Now, lets wrap the signal around an axis! I have done this for you, in an interactive fashion, but it is simply working out $[x_i,y_i]$ using $[x_i = g(t_i) \\cos(\\theta_i), y_i = g(t_i) \\sin(\\theta_i)]$. I have also plotted the centre of mass of the signal with a red cross, but don't pay too much attention to this yet."
   ]
  },
  {
   "cell_type": "code",
   "execution_count": 53,
   "id": "positive-antibody",
   "metadata": {},
   "outputs": [
    {
     "data": {
      "application/vnd.jupyter.widget-view+json": {
       "model_id": "91bf26a72a634ed0b38b77c7b5a3290c",
       "version_major": 2,
       "version_minor": 0
      },
      "text/plain": [
       "Canvas(toolbar=Toolbar(toolitems=[('Home', 'Reset original view', 'home', 'home'), ('Back', 'Back to previous …"
      ]
     },
     "metadata": {},
     "output_type": "display_data"
    }
   ],
   "source": [
    "%matplotlib widget\n",
    "\n",
    "########################\n",
    "#MANUALLY CHOSEN FEATURE (you can edit f to be whatever you want)\n",
    "########################\n",
    "f = 4\n",
    "########################\n",
    "theta_range = f * 2 * np.pi * t\n",
    "fig, ax = plt.subplots()\n",
    "\n",
    "\n",
    "f_range = 2 * np.pi * f * t\n",
    "x = g_function * np.cos(theta_range)\n",
    "y = g_function * np.sin(theta_range)\n",
    "\n",
    "ax.set_title(\"Sequential wrapping\")\n",
    "ax.set_xlim([-2.5,2.5])\n",
    "ax.set_ylim([-2.5,2.5])\n",
    "ax.grid()\n",
    "\n",
    "line, = ax.plot(x, y)\n",
    "line_com = ax.scatter(0, 0, marker = \"x\", color = \"r\")\n",
    "\n",
    "annotation = ax.annotate(\n",
    "    '', xy=(0,0), xytext=(x[0],y[0]),\n",
    "    arrowprops = {'arrowstyle': \"<-\"}\n",
    ")\n",
    "\n",
    "def update(i, line, annotation):\n",
    "    line.set_data(x[:i], y[:i])\n",
    "    annotation.set_position((x[i],y[i]))\n",
    "\n",
    "    line_com.set_offsets([np.mean(x[:i]), np.mean(y[:i])])\n",
    "\n",
    "    return line, annotation,\n",
    "\n",
    "ani = animation.FuncAnimation(fig, update, len(f_range), fargs=[line, annotation], interval = 5, blit = False)\n",
    "\n",
    "plt.show()"
   ]
  },
  {
   "cell_type": "markdown",
   "id": "fitting-mystery",
   "metadata": {},
   "source": [
    "Comment: In the figure below, you can now shift the slider to interactively visualise how this wrapping procedure is influenced by $f$. Please do not worry too much about the code, just play around with changing $f$.\n",
    "\n",
    "There should be some interesting results that you notice when you slide to $f=0$, $f=2$ and $f=3$. To help realise these interesting results, consider the centre of mass (indicated with a red cross) of the resulting line in the 2D space. Is there anything you see?\n",
    "\n",
    "Also note that we can change the wrapping direction by considering negative or positive values of $f$."
   ]
  },
  {
   "cell_type": "code",
   "execution_count": 54,
   "id": "empirical-lafayette",
   "metadata": {},
   "outputs": [
    {
     "data": {
      "application/vnd.jupyter.widget-view+json": {
       "model_id": "22c25452d0aa40b79f1ba4bf7db19d0d",
       "version_major": 2,
       "version_minor": 0
      },
      "text/plain": [
       "Canvas(toolbar=Toolbar(toolitems=[('Home', 'Reset original view', 'home', 'home'), ('Back', 'Back to previous …"
      ]
     },
     "metadata": {},
     "output_type": "display_data"
    },
    {
     "data": {
      "application/vnd.jupyter.widget-view+json": {
       "model_id": "274f6696880646008cf179db0eafa9b6",
       "version_major": 2,
       "version_minor": 0
      },
      "text/plain": [
       "interactive(children=(FloatSlider(value=0.001, description='f', max=5.0, min=-5.0), Output()), _dom_classes=('…"
      ]
     },
     "metadata": {},
     "output_type": "display_data"
    }
   ],
   "source": [
    "%matplotlib widget\n",
    "#plot as magnitude and phase\n",
    "fig = plt.figure()\n",
    "\n",
    "#define figure 1 - For cartesian\n",
    "ax1 = fig.add_subplot(1, 2, 1)\n",
    "ax1.set_xlim((-2, 2.5))\n",
    "ax1.set_ylim((-2.5, 2.5))\n",
    "ax1.grid()\n",
    "ax1.set_title(\"\")\n",
    "ax1.set_xlabel(\"x\")\n",
    "ax1.set_ylabel(\"y\")\n",
    "#plot a unit circle\n",
    "ax1.plot(np.linspace(-1, 1, 50), np.sqrt(1 - np.linspace(-1, 1, 50)**2), \"k--\")\n",
    "ax1.plot(np.linspace(-1, 1, 50), -1 * np.sqrt(1 - np.linspace(-1, 1, 50)**2), \"k--\")\n",
    "\n",
    "#define figure 2\n",
    "ax2 = fig.add_subplot(1, 2, 2, projection='polar')\n",
    "\n",
    "x = g_function * np.cos(theta_range)\n",
    "y = g_function * np.sin(theta_range)\n",
    "\n",
    "line1, = ax1.plot(x, y)\n",
    "com1 = ax1.scatter([0], [0], marker = \"*\", color = \"r\")\n",
    "line2, = ax2.plot(theta_range, g_function)\n",
    "com2 = ax2.scatter([0], [0], marker = \"*\", color = \"r\")\n",
    "\n",
    "def update(f = 0.001):\n",
    "    theta_range_new = 2 * np.pi * f * t\n",
    "    \n",
    "    x = g_function * np.cos(theta_range_new)\n",
    "    y = g_function * np.sin(theta_range_new)\n",
    "    \n",
    "    #update line1\n",
    "    line1.set_xdata(x)\n",
    "    line1.set_ydata(y)\n",
    "    \n",
    "    #update line2\n",
    "    line2.set_xdata(theta_range_new)\n",
    "    line2.set_ydata(g_function)\n",
    "    fig.canvas.draw()\n",
    "    \n",
    "    mean_x = np.mean(x)\n",
    "    mean_y = np.mean(y)\n",
    "    \n",
    "    #update centre of mass on figure 1\n",
    "    com1.set_offsets([mean_x, mean_y])\n",
    "    \n",
    "    #update centre of mass on figure 2\n",
    "    com2.set_offsets([np.arctan(mean_y / mean_x), np.sqrt(mean_x**2 + mean_y**2)])\n",
    "\n",
    "ipywidgets.interact(update, f = (-5, 5, 0.1))\n",
    "plt.show()"
   ]
  },
  {
   "cell_type": "markdown",
   "id": "velvet-framing",
   "metadata": {},
   "source": [
    "**Idea 2**\n",
    "\n",
    "Now that we have some idea of how to wrap signals around a 2D axis, lets try and visualise some information that we can obtain from the 2D plot. For this example, we will consider the centre of mass of the line $\\mathbf{r} = [\\mu_x, \\mu_y]$, which is given through\n",
    "\\begin{equation}\n",
    "\\mu_{x} = \\frac{1}{N} \\sum_i x_i,% = \\frac{1}{t_1 - t_0}\\int_{t_0}^{t_1} g(t)\\sin(\\theta(t))dt,\n",
    "\\end{equation}\n",
    "\\begin{equation}\n",
    "\\mu_{y} = \\frac{1}{N} \\sum_i y_i,% = \\frac{1}{t_1 - t_0}\\int_{t_0}^{t_1} g(t)\\cos(\\theta(t))dt.\n",
    "\\end{equation}\n",
    "For those who are interested about how these equations came about, we assume that the discrete points of the signal sample of the original waveform have equal mass. The centre of mass is then given by $x_{com} = \\frac{\\sum_{i=1}^N m_i x_i}{M}$ and $y_{com} = \\frac{\\sum_{i=1}^N m_i y_i}{M}$. Since we asssume equal mass, $m_i$ can be factored out and $\\frac{m_i}{M} = \\frac{1}{N}$.\n",
    "\n",
    "\n",
    "For visualisation, we can also consider the vector norm of the centre of mass $\\Vert r \\Vert_2 = \\sqrt{\\mu_{x}^2 + \\mu_{y}^2}$ and angle $\\theta = \\arctan \\left( \\frac{\\mu_{y}}{\\mu_{x}} \\right)$. Let's visualise how these four representations of the centre of mass vary for different values of $f$."
   ]
  },
  {
   "cell_type": "code",
   "execution_count": 55,
   "id": "bridal-binding",
   "metadata": {},
   "outputs": [
    {
     "data": {
      "application/vnd.jupyter.widget-view+json": {
       "model_id": "28ce0de1234a4cdc91cf8d955893264d",
       "version_major": 2,
       "version_minor": 0
      },
      "text/plain": [
       "Canvas(toolbar=Toolbar(toolitems=[('Home', 'Reset original view', 'home', 'home'), ('Back', 'Back to previous …"
      ]
     },
     "metadata": {},
     "output_type": "display_data"
    }
   ],
   "source": [
    "%matplotlib widget\n",
    "plt.close(\"all\")\n",
    "\n",
    "real = []\n",
    "imag = []\n",
    "radius = []\n",
    "angle = []\n",
    "\n",
    "f_start = -5\n",
    "f_end = 5\n",
    "granularity = 1000\n",
    "f_range = np.linspace(f_start, f_end, granularity)\n",
    "\n",
    "for f in f_range:\n",
    "    theta_range = 2 * np.pi *f * t\n",
    "\n",
    "    x = g_function * np.cos(theta_range)\n",
    "    y = g_function * np.sin(theta_range)\n",
    "    \n",
    "    mu_x = np.mean(x)\n",
    "    mu_y = np.mean(y)\n",
    "    \n",
    "    real.append(mu_x)\n",
    "    imag.append(mu_y)\n",
    "    \n",
    "    radius.append(np.sqrt(mu_x**2 + mu_y**2))\n",
    "    angle.append(np.arctan2(mu_y, mu_x))\n",
    "\"\"\"\n",
    "\"\"\"\n",
    "fig, ax = plt.subplots(2, 2)\n",
    "ax = ax.flatten()\n",
    "\n",
    "ax[0].set_title(\"x component\")\n",
    "ax[1].set_title(\"y component\")\n",
    "ax[2].set_title(\"Vector magnitude\")\n",
    "ax[3].set_title(\"vector angle\")\n",
    "\n",
    "for axs in ax:\n",
    "    axs.set_xlabel(\"Frequency (Hz)\")\n",
    "\n",
    "fig.tight_layout()\n",
    "\n",
    "line1, = ax[0].plot([], [], color='k')\n",
    "line2, = ax[1].plot([], [], color='k')\n",
    "line3, = ax[2].plot([], [], color='k')\n",
    "line4, = ax[3].plot([], [], color='k')\n",
    "\n",
    "data_tup = (real, imag, radius, angle)\n",
    "line_tup = (line1, line2, line3, line4)\n",
    "  \n",
    "def animate_test(num, f_range, data_tup, line_tup):\n",
    "    for i in range(len(data_tup)):\n",
    "        line_tup[i].set_data(f_range[:num], data_tup[i][:num])\n",
    "        line_tup[i].axes.axis([f_start, f_end, np.min(data_tup[i]), np.max(data_tup[i])])\n",
    "    \n",
    "    return line_tup,\n",
    "\n",
    "ani = animation.FuncAnimation(fig, animate_test, len(f_range), fargs=[f_range, data_tup, line_tup],\n",
    "                              interval=1, blit=True, repeat = True)\n",
    "#lowering interval will speed up the animation\n",
    "plt.show()\n",
    " "
   ]
  },
  {
   "cell_type": "markdown",
   "id": "otherwise-trash",
   "metadata": {},
   "source": [
    "What we can now see is that the centre of mass shows some interesting phenomena, where if $f$ matches some of the frequencies in our signal, it grows in magnitude. This phenomena is the underlying principle of the Fourier Transform! To realise this, lets introduce a version of the Fourier Transform mathematics:\n",
    "\\begin{equation}\n",
    "\\mathcal{F}(\\omega) = \\frac{1}{T} \\int_{0}^{T} f(t) e^{-i 2 \\pi \\omega t} dt,\n",
    "\\end{equation}\n",
    "\n",
    "The first thing you will notice is the presence of $e^{-i 2 \\pi \\omega t}$, which is just a complex domain expression of how we have organised our 2D plane plot! If this is not clear, take note of the following relationship exists:\n",
    "\\begin{equation}\n",
    "z = x - i y = \\Vert \\mathbf{z} \\Vert_2 (\\cos \\theta - i \\sin \\theta) = \\Vert z \\Vert_2 \\exp^{-i \\theta},\n",
    "\\end{equation}\n",
    "where $\\Vert z \\Vert_2 = \\sqrt{x^2 + y^2}$. So for the plots we made previously, we have actually been plotting everything in the complex domain, which occurs in the Argand plane. So now that we understand this idea, lets start to expand the Fourier Transform:\n",
    "\\begin{equation}\n",
    "\\begin{aligned}\n",
    "\\mathcal{F}(\\omega) &= \\frac{1}{T} \\int_{0}^{T} f(t) (\\cos(2 \\pi \\omega t) - i \\sin (2 \\pi \\omega t)) dt \\\\\n",
    "\\mathcal{F}(\\omega) &= \\frac{1}{T} [\\int_{0}^{T} f(t)\\cos(2 \\pi \\omega t)dt - i \\int_{0}^{T}f(t)\\sin (2 \\pi \\omega t) dt] \\\\\n",
    "\\mathcal{F}(f) &= \\frac{1}{T} [\\int_{0}^{T} f(t)\\cos(f t)dt - i \\int_{0}^{T}f(t)\\sin (f t) dt],\n",
    "\\end{aligned}\n",
    "\\end{equation}\n",
    "\n",
    "Now, before we continue, lets just take a moment to recall what the definite integral tells us. The definite integral is the area of a function between the bounds of integration, which can be expressed as the summation of infinitely small areas of a function weighted by the change in distance along the independent variable axis. For our case, we can immediately see that the expressions $\\mu_x$ and $\\mu_y$ could be developed into\n",
    "\\begin{equation}\n",
    "\\mu_{x} = \\frac{1}{N} \\sum_i x_i = \\frac{1}{N} \\sum_i g(t_i) \\cos(\\theta_i) = \\frac{1}{T} \\sum_i g(t_i) \\cos(\\theta_i) \\Delta t_i = \\frac{1}{t_1 - t_0}\\int_{t_0}^{t_1} g(t)\\cos(\\theta(t))dt,\n",
    "\\end{equation}\n",
    "\\begin{equation}\n",
    "\\mu_{y} = \\frac{1}{N} \\sum_i y_i = \\frac{1}{N} \\sum_i g(t_i) \\sin(\\theta_i) = \\frac{1}{T} \\sum_i g(t_i) \\sin(\\theta_i)\\Delta t_i = \\frac{1}{t_1 - t_0}\\int_{t_0}^{t_1} g(t)\\sin(\\theta(t))dt,\n",
    "\\end{equation}\n",
    "\n",
    "where $T = N\\Delta t$. Whichs shows that, ultimately, the Fourier transform for a frequency component $f$ is a calculation of the centre of mass of a signal that is wound around an axis! This is a pretty amazing result, and the underlying meaning of the mathematics is to calculate the centre of mass of a signal wound around an axis at some rate. The full definition one will usually see of the Fourier Transform is\n",
    "\\begin{equation}\n",
    "\\mathcal{F}(\\omega) = \\int_{-\\infty}^{\\infty} f(t) \\exp^{-i 2 \\pi \\omega t}dt,\n",
    "\\end{equation}\n",
    "\n",
    "where the minus sign in the exponential simply defines the winding/rotation direction in the complex domain and we drop the division."
   ]
  },
  {
   "cell_type": "markdown",
   "id": "spanish-microphone",
   "metadata": {},
   "source": [
    "# Side comments\n",
    "\n",
    "1. For those of you who come from a control systems background, you may ask how does the Fourier Transform relate to the Laplace Transform? The Fourier Transform can be considered a special case of the Laplace transform with $\\alpha = 0$. To prove this, consider the Laplace transform equation:\n",
    "\\begin{equation}\n",
    "\\mathcal{F}(s) = \\int_{-\\infty}^{\\infty} f(t) \\exp^{st}dt,\n",
    "\\end{equation}\n",
    "where $s = \\alpha + i \\omega$. Note that it is common for one to see this form, but it is clear to see that $\\omega$ has been shifted to units of $Hz$.\n",
    "\n",
    "2. What is the offset we see when $f=0$? This, is simply the DC offset of the signal, otherwise referred to as the signal mean. To prove this, consider the following:\n",
    "\\begin{equation}\n",
    "\\begin{aligned}\n",
    "\\mathcal{F}(0) &= \\int_{-\\infty}^{\\infty} f(t) \\exp^{-i 2 \\pi 0 t}dt \\\\\n",
    "&= \\int_{-\\infty}^{\\infty} f(t) \\exp^{0}dt \\\\\n",
    "&= \\int_{-\\infty}^{\\infty} f(t) (1)dt \\\\\n",
    "&= \\int_{-\\infty}^{\\infty} f(t) dt \\\\\n",
    "\\end{aligned}\n",
    "\\end{equation}\n",
    "\n",
    "3. Does the $-\\infty$ and $\\infty$ bounds on the integral change affect the process we have gone through?  Well, when we implement the Fourier Transform, in practice, we often do not know the true signal function f(t) and we can only discretely sample the signal in some interval. To address the integral bounds, we assume that the sampled signal is continuously recirculated and thus represents a signal f(t) with period T. \n",
    "\n",
    "4. You just mentioned that we commonly just sample a signal, so what happens in the Fourier Transform? As we sample the signal we do not implement the Fourier Transform  but rather the Discrete Fourier Transform (DFT). If you follow the MEV718 B1-03 lecture slides, you can clearly see that the DFT just expands the continuous case to discrete signals with a sampling rate $F_s = \\frac{1}{\\Delta t}$. The Fast Fourier Transform (FFT) is just an efficient algorithm to solving the DFT coefficients."
   ]
  },
  {
   "cell_type": "markdown",
   "id": "sudden-escape",
   "metadata": {},
   "source": [
    "# Using the Fourier Transform in practice\n",
    "\n",
    "To use the fourier transform in practice, we do not implement the Fourier Transform, but rather its discrete counterpart, the Discrete Fourier Transform (DFT). Fortunately for us, many commercial software packages have implementations that we can use to quickly implement the DFT. However, I would just like to discuss some of the elements of the DFT.\n",
    "\n",
    "There are two commonly applied versions of the DFT, namely the real and complex DFT. The difference is simply approximating the Fourier Series expansion versus approximating the Fourier Transform. For the sake of concreteness, I will introduce both versions to you.\n",
    "\n",
    "## Real DFT\n",
    "If we assume that we have a N-long sequence of samples of a time-series signal, which we shall denote as $x[n]$, the real DFT gives two $\\frac{N}{2} + 1$-length arrays, which we shall denote as $X_1[\\cdot]$ and $X_2[\\cdot]$ respectively. The $k^{th}$ index in these arrays is given as \n",
    "\\begin{equation}\n",
    "X_1[k] = \\frac{2}{N} \\sum_{n=0}^{N-1} x[n] \\cos \\left( \\frac{2\\pi kn}{N} \\right),\n",
    "\\end{equation}\n",
    "\\begin{equation}\n",
    "X_2[k] = \\frac{2}{N} \\sum_{n=0}^{N-1} x[n] \\sin \\left( \\frac{2\\pi kn}{N} \\right),\n",
    "\\end{equation}\n",
    "where $k=0,2,\\cdots,\\frac{N}{2}$. It is clear to note that this bears a striking resemblence to the Fourier series introduced earlier. We can then \"reconstruct\" the original time-series signal using\n",
    "\\begin{equation}\n",
    "x[n] = \\sum_{k=0}^{N/2} X_1[k]\\cos \\left( \\frac{2\\pi kn}{N} \\right) + X_2[k] \\sin \\left( \\frac{2\\pi kn}{N} \\right)\n",
    "\\end{equation}\n",
    "\n",
    "## Complex DFT\n",
    "The complex DFT, as presented in the MEV 781 notes, takes a discrete time-series signal of length $N$ and determines the Fourier Coefficients using\n",
    "\\begin{equation}\n",
    "X[k] = \\frac{1}{N} \\sum_{n=0}^{N-1} x[n] \\exp^{-j2\\pi \\frac{kn}{N}},\n",
    "\\end{equation}\n",
    "where there are $N$ complex coefficients. The intuition behind the steps here should be clear. From the previous discussion in the text, it should be clear that $X[0]$ is the DC frequency component, or the discrete signal mean. One can also convert back to the time domain using\n",
    "\\begin{equation}\n",
    "x[n] = \\sum_{k=0}^{N-1}X[k] \\exp^{j 2 \\pi \\frac{kn}{N}}.\n",
    "\\end{equation}\n",
    "\n",
    "## How do we use commercial software packages\n",
    "\n",
    "The Fast Fourier Transform (FFT) is an algorithm that is used to efficiently calculate the complex DFT. For those interested in how the FFT algorithm works, I recommend watching the following [video](https://www.youtube.com/watch?v=h7apO7q16V0).\n",
    "\n",
    "Since the FFT is a technique to obtain the DFT coefficients, all that is missing to complete the picture is to relate the $N$ complex coefficients to frequency components. To do this, we need to convert the integer indices to frequencies, and to do this we use the signal sampling frequency $F_s$. Each index of the DFT then spaced using $freq_{@X[k]} = k\\times \\frac{F_s}{N}$, $k = 0, 1, \\cdots, N - 1$, where $\\frac{F_s}{N}$ is known as the frequency resolution ($\\Delta f$). We can also calculate the frequency resolution if we know the sampling period $\\Delta t$: $\\Delta f = \\frac{1}{N\\Delta t}$ as $F_s = \\frac{1}{\\Delta t}$.\n",
    "\n",
    "For visualisation of the DFT coefficients, it is common practice to look at the magnitude and phase of the complex coefficients. Alternatively, if we wish to visualise the Power spectrum, we just multiply the DFT coefficients with its complex conjugate: $S_k = X[k]\\times X^*[k]$. However, this is simply looking at the squared magnitude of $X[k]$."
   ]
  },
  {
   "cell_type": "markdown",
   "id": "devoted-receptor",
   "metadata": {},
   "source": [
    "Now, when some of you follow this approach and visualise the DFT, is it expected that the plot have some visual symmetry, as if the DFT is mirrored about some frequency component. The reason for this is simple to visualise, but is an important aspect of the DFT. The basic reason can be elaborated through the rotation direction, where changes in rotation direction in a complex domain cannot be detected in the real domain. To make this clearer, consider the cell below (please run it, observe what happens and then come back here). Notice that the line in the real-time plane is equivalent and the rotation direction cannot be identified. However, in the complex-time plane, the lines are out of sync. This is an important result from the Fourier Transform that also manifests in the DFT. "
   ]
  },
  {
   "cell_type": "code",
   "execution_count": 7,
   "id": "numerous-optimization",
   "metadata": {},
   "outputs": [
    {
     "data": {
      "application/vnd.jupyter.widget-view+json": {
       "model_id": "f421495e180d4c449ed058291f0fe9d2",
       "version_major": 2,
       "version_minor": 0
      },
      "text/plain": [
       "Canvas(toolbar=Toolbar(toolitems=[('Home', 'Reset original view', 'home', 'home'), ('Back', 'Back to previous …"
      ]
     },
     "metadata": {},
     "output_type": "display_data"
    }
   ],
   "source": [
    "%matplotlib widget\n",
    "\n",
    "f = 5\n",
    "data_forward = np.exp(1j * 2 * np.pi * f * t)\n",
    "data_backward = np.exp(-1j * 2 * np.pi * f * t)\n",
    "\n",
    "ax1_x = np.real(data_forward)\n",
    "ax1_y = np.imag(data_forward)\n",
    "\n",
    "ax2_x = np.real(data_backward)\n",
    "ax2_y = np.imag(data_backward)\n",
    "\n",
    "fig = plt.figure()\n",
    "ax1 = fig.add_subplot(1, 2, 1, projection='3d')\n",
    "ax1.set_title(\"anti-clockwise rotation\")\n",
    "ax1.set_xlabel(\"Time\")\n",
    "ax1.set_ylabel(\"Real\")\n",
    "ax1.set_zlabel(\"Imaginary\")\n",
    "ax1.set_xticks([])\n",
    "ax1.set_yticks([])\n",
    "ax1.set_zticks([])\n",
    "line1_1, = ax1.plot(t, ax1_x, ax1_y, color = \"#003f5c\", label = \"complex representation\")\n",
    "line1_2, = ax1.plot(t, ax1_x, [0] * len(t), color = \"#bc5090\", label = \"real representation\")\n",
    "line1_3, = ax1.plot(t, [0] * len(t), ax1_y, color = \"#ffa600\", label = \"imaginary representation\")\n",
    "ax1.legend()\n",
    "\n",
    "ax2 = fig.add_subplot(1, 2, 2, projection='3d')\n",
    "ax2.set_title(\"clockwise rotation\")\n",
    "ax2.set_xlabel(\"Time\")\n",
    "ax2.set_ylabel(\"Real\")\n",
    "ax2.set_zlabel(\"Imaginary\")\n",
    "ax2.set_xticks([])\n",
    "ax2.set_yticks([])\n",
    "ax2.set_zticks([])\n",
    "line2_1, = ax2.plot(t, ax2_x, ax2_y, color = \"#003f5c\")\n",
    "line2_2, = ax2.plot(t, ax2_x, [0] * len(t), color = \"#bc5090\")\n",
    "line2_3, = ax2.plot(t, [0] * len(t), ax2_y, color = \"#ffa600\")\n",
    "\n",
    "fig.tight_layout(w_pad=4)\n",
    "\n",
    "def animate_f_differences(num, line1_1, line1_2, line1_3, line2_1, line2_2, line2_3):\n",
    "    line1_1.set_data(t[:num], ax1_x[:num])\n",
    "    line1_1.set_3d_properties(ax1_y[:num])\n",
    "    \n",
    "    line1_2.set_data(t[:num], ax1_x[:num])\n",
    "    line1_2.set_3d_properties([0] * num)\n",
    "    \n",
    "    line1_3.set_data(t[:num], [0] * num)\n",
    "    line1_3.set_3d_properties(ax1_y[:num])\n",
    "    \n",
    "    line2_1.set_data(t[:num], ax2_x[:num])\n",
    "    line2_1.set_3d_properties(ax2_y[:num])\n",
    "    \n",
    "    line2_2.set_data(t[:num], ax2_x[:num])\n",
    "    line2_2.set_3d_properties([0] * num)\n",
    "    \n",
    "    line2_3.set_data(t[:num], [0] * num)\n",
    "    line2_3.set_3d_properties(ax2_y[:num])\n",
    "    \n",
    "    return line1_1, line1_2, line1_3, line2_1, line2_2, line2_3,\n",
    "\n",
    "ani = animation.FuncAnimation(fig, animate_f_differences, len(t), fargs=[line1_1, line1_2, line1_3, line2_1, line2_2, line2_3],\n",
    "                              interval=1, blit=True)\n",
    "\n",
    "plt.show()"
   ]
  },
  {
   "cell_type": "markdown",
   "id": "transparent-aging",
   "metadata": {},
   "source": [
    "\n",
    "To detail why this rotation idea is important, we need to consider the mathematics in the Fourier Transform and the Discrete Fourier Transform:\n",
    "\\begin{equation}\n",
    "\\begin{aligned}\n",
    "\\mathcal{F}(f) &= \\frac{1}{T} [\\int_{0}^{T} f(t)\\cos(f t)dt - i \\int_{0}^{T}f(t)\\sin (f t) dt], \\\\\n",
    "&= \\frac{1}{T} \\int_{0}^{T} f(t) \\left[\\cos(f t) - i \\sin (f t) \\right] dt,\n",
    "\\end{aligned}\n",
    "\\end{equation}\n",
    "and then, lets look at the frequency $-f$:\n",
    "\\begin{equation}\n",
    "\\begin{aligned}\n",
    "\\mathcal{F}(-f) &= \\frac{1}{T} [\\int_{0}^{T} f(t)\\cos(f t)dt + i \\int_{0}^{T}f(t)\\sin (f t) dt], \\\\\n",
    "&= \\frac{1}{T} \\int_{0}^{T} f(t) \\left[\\cos(f t) + i \\sin (f t) \\right] dt,\n",
    "\\end{aligned}\n",
    "\\end{equation}\n",
    "What should be clear is that the Fourier coefficient at $f$ and $-f$ results in an inverted sinusoidal weighting. Given our experience with the visual elements of the Fourier Transform, this would result in a point that is mirrored across the real line (a change in the sign for $\\mu_y$). More formally, $F(-f) = F^*(f)$ where $F^*(f)$ is the complex conjugate of $F(f)$. Now, the question is, how does this manifest in the DFT? Consider any fixed point $l$, where $1 \\leq m \\leq N - 1$. \n",
    "\\begin{equation}\n",
    "X[l] = \\frac{1}{N} \\sum_{n=0}^{N-1} x[n] \\exp^{-j2\\pi \\frac{ln}{N}},\n",
    "\\end{equation}\n",
    "\\begin{equation}\n",
    "\\begin{aligned}\n",
    "X[N - l] &= \\frac{1}{N} \\sum_{n=0}^{N-1} x[n] \\exp^{-j2\\pi \\frac{(N - l)n}{N}}, \\\\\n",
    "& =  \\frac{1}{N} \\sum_{n=0}^{N-1} x[n] \\exp^{-j2\\pi (\\frac{(N)n}{N} - \\frac{ln}{N})} \\\\\n",
    "& =  \\frac{1}{N} \\sum_{n=0}^{N-1} x[n] \\exp^{-j2\\pi n +j2\\pi \\frac{ln}{N}} \\\\\n",
    "\\end{aligned}\n",
    "\\end{equation}\n",
    "and since $-j2\\pi n $ simply moves the point $n$ rotations around the domain we can effectively drop it from the equation. Thus:\n",
    "\\begin{equation}\n",
    "X[N - l] = \\frac{1}{N} \\sum_{n=0}^{N-1} x[n] \\exp^{j2\\pi \\frac{ln}{N}} \\\\\n",
    "\\end{equation}\n",
    "where it is now clear to see that $X[l] = X^*[N - l]$. Furthermore, if $l=\\frac{N}{2}$, we get $X[\\frac{N}{2}] = X^*[\\frac{N}{2}]$.\n",
    "\n",
    "To summarise the above, the $l^{th}$ index in the DFT of a _real-valued_ discrete signal has the same magnitude as the $(N - l)^{th}$ index, but the two are complex conjugates of one another (mirrored over the real line). The emphasis of _real-valued_ is because this does not hold if your signal has complex coefficients, however this does not apply when we take the DFT of time-series signals. \n",
    "\n",
    "So, what does this all mean? Well, the largest frequency component that the DFT can effectively determine is $freq_{@X[N/2]} = \\frac{N}{2} \\times \\frac{F_s}{N} = \\frac{F_s}{2}$. This frequency component is commonly referred to as the Nyquist frequency. After this point, all of the DFT indices are simply the complex conjugates of previously determined indices. Hence, it is common to plot the one-sided magnitude of the DFT. However, if you do so, please multiply the one-sided magnitude by two to account for the fact that you removed half of the information from the DFT.\n",
    "\n",
    "Finally, there are some key differences in terminology that you can slip up on, and to make sure you are aware of them please refer to this [document](https://www.analog.com/media/en/technical-documentation/dsp-book/dsp_book_Ch31.pdf).\n",
    "\n",
    "If you managed to get this far, thank you for reading this! I hope that you found it mildly enlightening. If you have any issues or notice any problems or flaws with this document, please reach out to me at ryanbalshaw81@gmail.com."
   ]
  }
 ],
 "metadata": {
  "kernelspec": {
   "display_name": "Python 3",
   "language": "python",
   "name": "python3"
  },
  "language_info": {
   "codemirror_mode": {
    "name": "ipython",
    "version": 3
   },
   "file_extension": ".py",
   "mimetype": "text/x-python",
   "name": "python",
   "nbconvert_exporter": "python",
   "pygments_lexer": "ipython3",
   "version": "3.7.10"
  }
 },
 "nbformat": 4,
 "nbformat_minor": 5
}
